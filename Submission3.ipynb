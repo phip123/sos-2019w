{
 "cells": [
  {
   "cell_type": "markdown",
   "metadata": {},
   "source": [
    "# Hands-On Assigment: SOM\n",
    "\n",
    "_Self-organizing Systems 2019W - Submission for Exercise 3_\n",
    "\n",
    "\n",
    "###  Group: Coding_Vis_F_1\n",
    "- Axel Brunnbauer (01452934)\n",
    "- Philipp Raith (01425076)\n",
    "- Christian Kastner (00100168)\n",
    "\n"
   ]
  },
  {
   "cell_type": "markdown",
   "metadata": {},
   "source": [
    "## Summary\n",
    "\n",
    "- We used the `SOMToolbox` to train SOMs on the \"Chain Link\" and the \"10 Clusters\" data sets\n",
    "- We used various parameter settings\n",
    "- This resulted in multiple sets of `SOMLib` files\n",
    "- We created a parser for those files\n",
    "- We then implemented two visualization techniques, **topographic error** and **intrinsic distance**, to illustrate the data\n",
    "- Finally, we documented our observations and conclusions."
   ]
  },
  {
   "cell_type": "markdown",
   "metadata": {},
   "source": [
    "### Preliminaries\n",
    "\n",
    "This notebook requires the following Python libraries to be installed:\n",
    "\n",
    "- `numpy`\n",
    "- `networkx` for graph operations\n",
    "- `plotly` for the interactive visualizations\n",
    "\n",
    "`$ pip install numpy networkx plotly`"
   ]
  },
  {
   "cell_type": "markdown",
   "metadata": {},
   "source": [
    "## Data Sets and Training\n",
    "\n",
    "We were instructed to use the [Chain Link](http://www.ifs.tuwien.ac.at/dm/somtoolbox/datasets.html#chain_link) and the [10 Clusters](http://www.ifs.tuwien.ac.at/dm/somtoolbox/datasets.html#section6) data sets.\n",
    "\n",
    "To train SOMs for these data sets, a number of libraries were suggested, and `minisom` looked attractive to us. However, it was our impression that the actual training was not part of the exercise, just a precursor to it, hence we inquired on [TUWEL](https://tuwel.tuwien.ac.at/mod/forum/discuss.php?d=156907) about whether it would be sufficient to train the data with `SomToolbox`, which we eventually did.\n",
    "\n",
    "### Training parameters\n",
    "\n",
    "We used the following training parameters. They were chosen purposefully to either be very similar, or to differ extremely.\n",
    "\n",
    "\n",
    "|  Data set   |    Size    | Iterations  |    Radius     | Learning Rate |\n",
    "| ----------- |:----------:|:-----------:|:-------------:|:--------------|\n",
    "| Chain Link  |   20x25    |     10      |      1        |       0.5     |\n",
    "| 10 Clusters |   20x25    |      1      |      3        |       0.5     |\n",
    "| Chain Link  |  100x60    |     10      |      1        |       0.5     |\n",
    "| 10 Clusters |  100x60    |      1      |      3        |       0.5     |\n",
    "|    etc      |    10      |      1      |      3        |               |\n",
    "\n",
    "### Training\n",
    "\n",
    "We used `SOMToolbox 0.7.5-4` to train the SOMs using the above parameters. The outputs, were in `SOMLib` format, were saved to the [soms/](soms/) directory. Per trained SOM, we saved:\n",
    "\n",
    "- TODO .cls\n",
    "- TODO .prop\n",
    "- TODO .tv\n",
    "- TODO .vec"
   ]
  },
  {
   "cell_type": "markdown",
   "metadata": {},
   "source": [
    "## Helper Functions\n",
    "\n",
    "### SOMlib Parsing\n",
    "\n",
    "We created a helper module [somlib](files/somvisualization/io/somlib.py) to parse `SOMlib` files.\n",
    "\n",
    "We create a small helper module [L2](files/somvisualization/distances/L2.py) to calculate the FIXME distance between FIXME."
   ]
  },
  {
   "cell_type": "markdown",
   "metadata": {},
   "source": [
    "## Visualizations\n",
    "\n",
    "For each visualization technique and data set, we present visualizations of various parameter settings."
   ]
  },
  {
   "cell_type": "markdown",
   "metadata": {},
   "source": [
    "### Topographic Error"
   ]
  },
  {
   "cell_type": "code",
   "execution_count": 2,
   "metadata": {},
   "outputs": [],
   "source": [
    "# plotly code goes here"
   ]
  },
  {
   "cell_type": "markdown",
   "metadata": {},
   "source": [
    "### Intrinsic Distance"
   ]
  },
  {
   "cell_type": "code",
   "execution_count": 3,
   "metadata": {},
   "outputs": [],
   "source": [
    "# plotly code goes here"
   ]
  },
  {
   "cell_type": "markdown",
   "metadata": {},
   "source": [
    "## Conclusions\n",
    "\n",
    "- Validation\n",
    "    - Effect of small paramter changes\n",
    "    - Effect of extreme parameter values"
   ]
  }
 ],
 "metadata": {
  "kernelspec": {
   "display_name": "Python 3",
   "language": "python",
   "name": "python3"
  },
  "language_info": {
   "codemirror_mode": {
    "name": "ipython",
    "version": 3
   },
   "file_extension": ".py",
   "mimetype": "text/x-python",
   "name": "python",
   "nbconvert_exporter": "python",
   "pygments_lexer": "ipython3",
   "version": "3.7.3"
  }
 },
 "nbformat": 4,
 "nbformat_minor": 4
}
